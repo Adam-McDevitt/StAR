{
 "cells": [
  {
   "cell_type": "code",
   "execution_count": 2,
   "metadata": {},
   "outputs": [
    {
     "name": "stdout",
     "output_type": "stream",
     "text": [
      "Populating the interactive namespace from numpy and matplotlib\n"
     ]
    },
    {
     "name": "stderr",
     "output_type": "stream",
     "text": [
      "/home/cold2blood/miniconda3/envs/ml/lib/python3.5/importlib/_bootstrap.py:222: RuntimeWarning: numpy.dtype size changed, may indicate binary incompatibility. Expected 96, got 88\n",
      "  return f(*args, **kwds)\n"
     ]
    }
   ],
   "source": [
    "from IPython.display import display\n",
    "import os\n",
    "import seaborn as sns\n",
    "import pandas as pd\n",
    "%matplotlib inline\n",
    "%pylab inline"
   ]
  },
  {
   "cell_type": "code",
   "execution_count": 9,
   "metadata": {},
   "outputs": [
    {
     "name": "stderr",
     "output_type": "stream",
     "text": [
      "ERROR:root:Internal Python error in the inspect module.\n",
      "Below is the traceback from this internal error.\n",
      "\n"
     ]
    },
    {
     "name": "stdout",
     "output_type": "stream",
     "text": [
      "Traceback (most recent call last):\n",
      "  File \"/home/cold2blood/miniconda3/envs/ml/lib/python3.5/site-packages/IPython/core/interactiveshell.py\", line 2961, in run_code\n",
      "    exec(code_obj, self.user_global_ns, self.user_ns)\n",
      "  File \"<ipython-input-9-852b065634f5>\", line 7, in <module>\n",
      "    old_data = pd.read_csv(datapath_old,delimiter=\",\")\n",
      "  File \"/home/cold2blood/miniconda3/envs/ml/lib/python3.5/site-packages/pandas/io/parsers.py\", line 678, in parser_f\n",
      "    return _read(filepath_or_buffer, kwds)\n",
      "  File \"/home/cold2blood/miniconda3/envs/ml/lib/python3.5/site-packages/pandas/io/parsers.py\", line 422, in _read\n",
      "    compression = _infer_compression(filepath_or_buffer, compression)\n",
      "  File \"/home/cold2blood/miniconda3/envs/ml/lib/python3.5/site-packages/pandas/io/common.py\", line 277, in _infer_compression\n",
      "    filepath_or_buffer = _stringify_path(filepath_or_buffer)\n",
      "  File \"/home/cold2blood/miniconda3/envs/ml/lib/python3.5/site-packages/pandas/io/common.py\", line 150, in _stringify_path\n",
      "    from py.path import local as LocalPath\n",
      "  File \"<frozen importlib._bootstrap>\", line 968, in _find_and_load\n",
      "  File \"<frozen importlib._bootstrap>\", line 953, in _find_and_load_unlocked\n",
      "  File \"<frozen importlib._bootstrap>\", line 896, in _find_spec\n",
      "  File \"<frozen importlib._bootstrap_external>\", line 1171, in find_spec\n",
      "  File \"<frozen importlib._bootstrap_external>\", line 1145, in _get_spec\n",
      "  File \"<frozen importlib._bootstrap_external>\", line 1257, in find_spec\n",
      "  File \"<frozen importlib._bootstrap_external>\", line 1296, in _fill_cache\n",
      "OSError: [Errno 107] Transport endpoint is not connected: '/home/cold2blood/remote/Quantitave_Anal'\n",
      "\n",
      "During handling of the above exception, another exception occurred:\n",
      "\n",
      "Traceback (most recent call last):\n",
      "  File \"/home/cold2blood/miniconda3/envs/ml/lib/python3.5/site-packages/IPython/core/interactiveshell.py\", line 1863, in showtraceback\n",
      "    stb = value._render_traceback_()\n",
      "AttributeError: 'OSError' object has no attribute '_render_traceback_'\n",
      "\n",
      "During handling of the above exception, another exception occurred:\n",
      "\n",
      "Traceback (most recent call last):\n",
      "  File \"/home/cold2blood/miniconda3/envs/ml/lib/python3.5/site-packages/IPython/core/ultratb.py\", line 1095, in get_records\n",
      "    return _fixed_getinnerframes(etb, number_of_lines_of_context, tb_offset)\n",
      "  File \"/home/cold2blood/miniconda3/envs/ml/lib/python3.5/site-packages/IPython/core/ultratb.py\", line 311, in wrapped\n",
      "    return f(*args, **kwargs)\n",
      "  File \"/home/cold2blood/miniconda3/envs/ml/lib/python3.5/site-packages/IPython/core/ultratb.py\", line 345, in _fixed_getinnerframes\n",
      "    records = fix_frame_records_filenames(inspect.getinnerframes(etb, context))\n",
      "  File \"/home/cold2blood/miniconda3/envs/ml/lib/python3.5/inspect.py\", line 1459, in getinnerframes\n",
      "    frameinfo = (tb.tb_frame,) + getframeinfo(tb, context)\n",
      "  File \"/home/cold2blood/miniconda3/envs/ml/lib/python3.5/inspect.py\", line 1417, in getframeinfo\n",
      "    filename = getsourcefile(frame) or getfile(frame)\n",
      "  File \"/home/cold2blood/miniconda3/envs/ml/lib/python3.5/inspect.py\", line 677, in getsourcefile\n",
      "    if getattr(getmodule(object, filename), '__loader__', None) is not None:\n",
      "  File \"/home/cold2blood/miniconda3/envs/ml/lib/python3.5/inspect.py\", line 706, in getmodule\n",
      "    file = getabsfile(object, _filename)\n",
      "  File \"/home/cold2blood/miniconda3/envs/ml/lib/python3.5/inspect.py\", line 690, in getabsfile\n",
      "    return os.path.normcase(os.path.abspath(_filename))\n",
      "  File \"/home/cold2blood/miniconda3/envs/ml/lib/python3.5/posixpath.py\", line 362, in abspath\n",
      "    cwd = os.getcwd()\n",
      "FileNotFoundError: [Errno 2] No such file or directory\n"
     ]
    },
    {
     "ename": "OSError",
     "evalue": "[Errno 107] Transport endpoint is not connected: '/home/cold2blood/remote/Quantitave_Anal'",
     "output_type": "error",
     "traceback": [
      "\u001b[0;31m---------------------------------------------------------------------------\u001b[0m"
     ]
    }
   ],
   "source": [
    "# load dataset\n",
    "datapath_old = os.path.join(os.getcwd(),\"temp_data\",\"data_black.csv\")\n",
    "datapath_open= os.path.join(os.getcwd(),\"temp_data\",\"data_open.csv\")\n",
    "datapath_new = os.path.join(os.getcwd(),\"temp_data\",\"data.csv\")\n",
    "\n",
    "# display the first few items of the dataset\n",
    "old_data = pd.read_csv(datapath_old,delimiter=\",\")\n",
    "open_data = pd.read_csv(datapath_open,delimiter=\",\")\n",
    "new_data = pd.read_csv(datapath_new,delimiter=\",\")\n",
    "\n",
    "data=[old_data,open_data,new_data]\n",
    "\n",
    "\n",
    "for dataset in data:\n",
    "    dataset[\"Time\"]=dataset[\"Time\"]-dataset.iloc[0,0]\n",
    "\n",
    "for d in data:\n",
    "    display(d)"
   ]
  }
 ],
 "metadata": {
  "kernelspec": {
   "display_name": "Python 3",
   "language": "python",
   "name": "python3"
  },
  "language_info": {
   "codemirror_mode": {
    "name": "ipython",
    "version": 3
   },
   "file_extension": ".py",
   "mimetype": "text/x-python",
   "name": "python",
   "nbconvert_exporter": "python",
   "pygments_lexer": "ipython3",
   "version": "3.5.6"
  },
  "varInspector": {
   "cols": {
    "lenName": 16,
    "lenType": 16,
    "lenVar": 40
   },
   "kernels_config": {
    "python": {
     "delete_cmd_postfix": "",
     "delete_cmd_prefix": "del ",
     "library": "var_list.py",
     "varRefreshCmd": "print(var_dic_list())"
    },
    "r": {
     "delete_cmd_postfix": ") ",
     "delete_cmd_prefix": "rm(",
     "library": "var_list.r",
     "varRefreshCmd": "cat(var_dic_list()) "
    }
   },
   "types_to_exclude": [
    "module",
    "function",
    "builtin_function_or_method",
    "instance",
    "_Feature"
   ],
   "window_display": false
  }
 },
 "nbformat": 4,
 "nbformat_minor": 2
}
